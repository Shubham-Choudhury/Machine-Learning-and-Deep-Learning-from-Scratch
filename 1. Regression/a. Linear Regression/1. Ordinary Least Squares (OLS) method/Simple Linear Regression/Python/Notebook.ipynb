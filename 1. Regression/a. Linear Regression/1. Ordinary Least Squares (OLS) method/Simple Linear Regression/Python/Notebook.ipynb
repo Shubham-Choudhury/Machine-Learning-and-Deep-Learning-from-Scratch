{
 "cells": [
  {
   "cell_type": "markdown",
   "id": "3f4b557b",
   "metadata": {},
   "source": [
    "### Import Libraries"
   ]
  },
  {
   "cell_type": "code",
   "execution_count": 1,
   "id": "4504ab91",
   "metadata": {},
   "outputs": [],
   "source": [
    "import numpy as np\n",
    "import pandas as pd\n",
    "import matplotlib.pyplot as plt\n",
    "from sklearn.model_selection import train_test_split\n",
    "from sklearn.metrics import mean_squared_error, mean_absolute_error, r2_score"
   ]
  },
  {
   "cell_type": "markdown",
   "id": "d23b9d7f",
   "metadata": {},
   "source": [
    "### Load and Prepare the Data"
   ]
  },
  {
   "cell_type": "code",
   "execution_count": 2,
   "id": "6c8fb9aa",
   "metadata": {},
   "outputs": [],
   "source": [
    "df = pd.read_csv('../house_price_prediction_dataset.csv')"
   ]
  },
  {
   "cell_type": "code",
   "execution_count": 3,
   "id": "c6196faf",
   "metadata": {
    "scrolled": true
   },
   "outputs": [
    {
     "data": {
      "text/html": [
       "<div>\n",
       "<style scoped>\n",
       "    .dataframe tbody tr th:only-of-type {\n",
       "        vertical-align: middle;\n",
       "    }\n",
       "\n",
       "    .dataframe tbody tr th {\n",
       "        vertical-align: top;\n",
       "    }\n",
       "\n",
       "    .dataframe thead th {\n",
       "        text-align: right;\n",
       "    }\n",
       "</style>\n",
       "<table border=\"1\" class=\"dataframe\">\n",
       "  <thead>\n",
       "    <tr style=\"text-align: right;\">\n",
       "      <th></th>\n",
       "      <th>Size (sqft)</th>\n",
       "      <th>Price</th>\n",
       "    </tr>\n",
       "  </thead>\n",
       "  <tbody>\n",
       "    <tr>\n",
       "      <th>0</th>\n",
       "      <td>4058.131</td>\n",
       "      <td>650838.379</td>\n",
       "    </tr>\n",
       "    <tr>\n",
       "      <th>1</th>\n",
       "      <td>9531.786</td>\n",
       "      <td>1353425.502</td>\n",
       "    </tr>\n",
       "    <tr>\n",
       "      <th>2</th>\n",
       "      <td>7453.942</td>\n",
       "      <td>1200834.427</td>\n",
       "    </tr>\n",
       "    <tr>\n",
       "      <th>3</th>\n",
       "      <td>6187.256</td>\n",
       "      <td>1026269.838</td>\n",
       "    </tr>\n",
       "    <tr>\n",
       "      <th>4</th>\n",
       "      <td>1982.177</td>\n",
       "      <td>365198.110</td>\n",
       "    </tr>\n",
       "  </tbody>\n",
       "</table>\n",
       "</div>"
      ],
      "text/plain": [
       "   Size (sqft)        Price\n",
       "0     4058.131   650838.379\n",
       "1     9531.786  1353425.502\n",
       "2     7453.942  1200834.427\n",
       "3     6187.256  1026269.838\n",
       "4     1982.177   365198.110"
      ]
     },
     "execution_count": 3,
     "metadata": {},
     "output_type": "execute_result"
    }
   ],
   "source": [
    "df.head()"
   ]
  },
  {
   "cell_type": "code",
   "execution_count": 4,
   "id": "e681b545",
   "metadata": {},
   "outputs": [],
   "source": [
    "X = df.drop(columns=['Price'])\n",
    "y = df['Price'] "
   ]
  },
  {
   "cell_type": "code",
   "execution_count": 5,
   "id": "8ccde5a0",
   "metadata": {
    "scrolled": false
   },
   "outputs": [
    {
     "data": {
      "text/plain": [
       "0       650838.379\n",
       "1      1353425.502\n",
       "2      1200834.427\n",
       "3      1026269.838\n",
       "4       365198.110\n",
       "          ...     \n",
       "995      81723.702\n",
       "996    1376282.422\n",
       "997     277061.568\n",
       "998    1443321.965\n",
       "999     669739.150\n",
       "Name: Price, Length: 1000, dtype: float64"
      ]
     },
     "execution_count": 5,
     "metadata": {},
     "output_type": "execute_result"
    }
   ],
   "source": [
    "y"
   ]
  },
  {
   "cell_type": "markdown",
   "id": "766f1bdf",
   "metadata": {},
   "source": [
    "### Split the Data"
   ]
  },
  {
   "cell_type": "code",
   "execution_count": 6,
   "id": "a7b73b30",
   "metadata": {},
   "outputs": [],
   "source": [
    "X_train, X_test, y_train, y_test = train_test_split(X, y, test_size=0.2, random_state=42)"
   ]
  },
  {
   "cell_type": "markdown",
   "id": "ae8c8f1a",
   "metadata": {},
   "source": [
    "### Creating Linear Regression class"
   ]
  },
  {
   "cell_type": "code",
   "execution_count": 7,
   "id": "4d68b79b",
   "metadata": {},
   "outputs": [],
   "source": [
    "class LINEARREGRESSION:\n",
    "    def __init__(self):\n",
    "        self.m = None\n",
    "        self.b = None\n",
    "        \n",
    "    def fit(self, X_train, y_train):\n",
    "        # Convert to numpy arrays if they are Pandas Series or DataFrames\n",
    "        if isinstance(X_train, pd.Series) or isinstance(X_train, pd.DataFrame):\n",
    "            X_train = X_train.values.flatten()\n",
    "        if isinstance(y_train, pd.Series) or isinstance(y_train, pd.DataFrame):\n",
    "            y_train = y_train.values.flatten()\n",
    "            \n",
    "        numenator = 0\n",
    "        denominator = 0\n",
    "        \n",
    "        for i in range(X_train.shape[0]):\n",
    "            numenator = numenator + ((X_train[i] - X_train.mean()) * (y_train[i] - y_train.mean()))\n",
    "            denominator = denominator + ((X_train[i] - X_train.mean()) ** 2)\n",
    "            \n",
    "        self.m = numenator/denominator\n",
    "        self.b = y_train.mean() - (self.m * X_train.mean())\n",
    "        \n",
    "    def predict(self, X_test):\n",
    "        if isinstance(X_test, pd.Series) or isinstance(X_test, pd.DataFrame):\n",
    "            X_test = X_test.values.flatten()\n",
    "        return (self.m * X_test) + self.b\n",
    "    \n",
    "    def coefficients(self):\n",
    "        return self.m\n",
    "    \n",
    "    def intercept(self):\n",
    "        return self.b\n",
    "    "
   ]
  },
  {
   "cell_type": "markdown",
   "id": "e7783175",
   "metadata": {},
   "source": [
    "### Create and Train the Model"
   ]
  },
  {
   "cell_type": "code",
   "execution_count": 8,
   "id": "3faa935c",
   "metadata": {},
   "outputs": [],
   "source": [
    "model = LINEARREGRESSION()\n",
    "model.fit(X_train, y_train)"
   ]
  },
  {
   "cell_type": "markdown",
   "id": "a3a45f2b",
   "metadata": {},
   "source": [
    "### Make Predictions"
   ]
  },
  {
   "cell_type": "code",
   "execution_count": 9,
   "id": "98a396b2",
   "metadata": {},
   "outputs": [],
   "source": [
    "y_pred = model.predict(X_test)"
   ]
  },
  {
   "cell_type": "code",
   "execution_count": 10,
   "id": "ebadb6be",
   "metadata": {
    "scrolled": true
   },
   "outputs": [
    {
     "name": "stdout",
     "output_type": "stream",
     "text": [
      "Intercept: 19911.346713463427\n",
      "Coefficients: 154.14839440863338\n"
     ]
    }
   ],
   "source": [
    "intercept = model.intercept()\n",
    "coefficients = model.coefficients()\n",
    "\n",
    "print(f\"Intercept: {intercept}\")\n",
    "print(f\"Coefficients: {coefficients}\")"
   ]
  },
  {
   "cell_type": "markdown",
   "id": "a35b9819",
   "metadata": {},
   "source": [
    "### Evaluate the Model"
   ]
  },
  {
   "cell_type": "code",
   "execution_count": 11,
   "id": "94f33f5b",
   "metadata": {},
   "outputs": [],
   "source": [
    "mse = mean_squared_error(y_test, y_pred)\n",
    "mae = mean_absolute_error(y_test, y_pred)\n",
    "r2 = r2_score(y_test, y_pred)"
   ]
  },
  {
   "cell_type": "code",
   "execution_count": 12,
   "id": "393165d8",
   "metadata": {},
   "outputs": [
    {
     "name": "stdout",
     "output_type": "stream",
     "text": [
      "Mean Squared Error: 8573553080.211827\n",
      "R-squared: 0.9548168861213884\n"
     ]
    }
   ],
   "source": [
    "print(f'Mean Squared Error: {mse}')\n",
    "print(f'R-squared: {r2}')"
   ]
  },
  {
   "cell_type": "markdown",
   "id": "af555d82",
   "metadata": {},
   "source": [
    "### Visualize the Results"
   ]
  },
  {
   "cell_type": "code",
   "execution_count": 13,
   "id": "d03b8841",
   "metadata": {},
   "outputs": [
    {
     "data": {
      "image/png": "[encoded data removed]",
      "text/plain": [
       "<Figure size 640x480 with 1 Axes>"
      ]
     },
     "metadata": {},
     "output_type": "display_data"
    }
   ],
   "source": [
    "plt.scatter(y_test, y_pred, color='blue')\n",
    "plt.plot([y.min(), y.max()], [y.min(), y.max()], 'k--', lw=4)\n",
    "plt.xlabel('Actual')\n",
    "plt.ylabel('Predicted')\n",
    "plt.title('Actual vs Predicted Salary')\n",
    "plt.show()\n"
   ]
  },
  {
   "cell_type": "code",
   "execution_count": null,
   "id": "85b10c8a",
   "metadata": {},
   "outputs": [],
   "source": []
  }
 ],
 "metadata": {
  "kernelspec": {
   "display_name": "Python 3 (ipykernel)",
   "language": "python",
   "name": "python3"
  },
  "language_info": {
   "codemirror_mode": {
    "name": "ipython",
    "version": 3
   },
   "file_extension": ".py",
   "mimetype": "text/x-python",
   "name": "python",
   "nbconvert_exporter": "python",
   "pygments_lexer": "ipython3",
   "version": "3.11.5"
  }
 },
 "nbformat": 4,
 "nbformat_minor": 5
}
